{
 "cells": [
  {
   "cell_type": "code",
   "execution_count": null,
   "metadata": {},
   "outputs": [],
   "source": [
    "!pip install r-wrapper"
   ]
  },
  {
   "cell_type": "code",
   "execution_count": 1,
   "metadata": {},
   "outputs": [],
   "source": [
    "from r_wrapper import diftrans\n",
    "from r_wrapper import base\n",
    "from r_wrapper import stats\n",
    "import pandas as pd\n",
    "import numpy as np"
   ]
  },
  {
   "cell_type": "markdown",
   "metadata": {},
   "source": [
    "## 3.2 Understanding the Data"
   ]
  },
  {
   "cell_type": "code",
   "execution_count": 2,
   "metadata": {},
   "outputs": [],
   "source": [
    "# Beijing_sample = pd.read_csv('Beijing_sample.csv')\n",
    "# Tianjin_sample = pd.read_csv('Tianjin_sample.csv')\n",
    "\n",
    "Beijing_sample = base.get(\"Beijing_sample\")\n",
    "Tianjin_sample = base.get(\"Tianjin_sample\")"
   ]
  },
  {
   "cell_type": "code",
   "execution_count": 3,
   "metadata": {},
   "outputs": [
    {
     "data": {
      "text/html": [
       "<div>\n",
       "<style scoped>\n",
       "    .dataframe tbody tr th:only-of-type {\n",
       "        vertical-align: middle;\n",
       "    }\n",
       "\n",
       "    .dataframe tbody tr th {\n",
       "        vertical-align: top;\n",
       "    }\n",
       "\n",
       "    .dataframe thead th {\n",
       "        text-align: right;\n",
       "    }\n",
       "</style>\n",
       "<table border=\"1\" class=\"dataframe\">\n",
       "  <thead>\n",
       "    <tr style=\"text-align: right;\">\n",
       "      <th></th>\n",
       "      <th>id</th>\n",
       "      <th>year</th>\n",
       "      <th>month</th>\n",
       "      <th>ym</th>\n",
       "      <th>city</th>\n",
       "      <th>MSRP</th>\n",
       "      <th>sales</th>\n",
       "      <th>swtprice</th>\n",
       "      <th>color</th>\n",
       "      <th>noticenum</th>\n",
       "      <th>postBeijing</th>\n",
       "      <th>postTianjin</th>\n",
       "      <th>Beijing</th>\n",
       "      <th>Tianjin</th>\n",
       "      <th>Shijiazhuang</th>\n",
       "      <th>policy_dummy</th>\n",
       "    </tr>\n",
       "  </thead>\n",
       "  <tbody>\n",
       "    <tr>\n",
       "      <th>1</th>\n",
       "      <td>416024</td>\n",
       "      <td>2010</td>\n",
       "      <td>1</td>\n",
       "      <td>14610.0</td>\n",
       "      <td>Beijing</td>\n",
       "      <td>139800</td>\n",
       "      <td>9.0</td>\n",
       "      <td>152.90585</td>\n",
       "      <td>灰</td>\n",
       "      <td>TV7161GLD</td>\n",
       "      <td>0.0</td>\n",
       "      <td>0.0</td>\n",
       "      <td>1.0</td>\n",
       "      <td>0.0</td>\n",
       "      <td>0.0</td>\n",
       "      <td>0</td>\n",
       "    </tr>\n",
       "    <tr>\n",
       "      <th>2</th>\n",
       "      <td>416025</td>\n",
       "      <td>2010</td>\n",
       "      <td>1</td>\n",
       "      <td>14610.0</td>\n",
       "      <td>Beijing</td>\n",
       "      <td>55900</td>\n",
       "      <td>145.0</td>\n",
       "      <td>152.90585</td>\n",
       "      <td>蓝</td>\n",
       "      <td>QCJ7151A5</td>\n",
       "      <td>0.0</td>\n",
       "      <td>0.0</td>\n",
       "      <td>1.0</td>\n",
       "      <td>0.0</td>\n",
       "      <td>0.0</td>\n",
       "      <td>0</td>\n",
       "    </tr>\n",
       "    <tr>\n",
       "      <th>3</th>\n",
       "      <td>416026</td>\n",
       "      <td>2010</td>\n",
       "      <td>1</td>\n",
       "      <td>14610.0</td>\n",
       "      <td>Beijing</td>\n",
       "      <td>207800</td>\n",
       "      <td>21.0</td>\n",
       "      <td>152.90585</td>\n",
       "      <td>黑</td>\n",
       "      <td>TV6460DLXM</td>\n",
       "      <td>0.0</td>\n",
       "      <td>0.0</td>\n",
       "      <td>1.0</td>\n",
       "      <td>0.0</td>\n",
       "      <td>0.0</td>\n",
       "      <td>0</td>\n",
       "    </tr>\n",
       "    <tr>\n",
       "      <th>4</th>\n",
       "      <td>416027</td>\n",
       "      <td>2010</td>\n",
       "      <td>1</td>\n",
       "      <td>14610.0</td>\n",
       "      <td>Beijing</td>\n",
       "      <td>105700</td>\n",
       "      <td>0.0</td>\n",
       "      <td>152.90585</td>\n",
       "      <td>黑灰</td>\n",
       "      <td>SDH6470M3</td>\n",
       "      <td>0.0</td>\n",
       "      <td>0.0</td>\n",
       "      <td>1.0</td>\n",
       "      <td>0.0</td>\n",
       "      <td>0.0</td>\n",
       "      <td>0</td>\n",
       "    </tr>\n",
       "    <tr>\n",
       "      <th>5</th>\n",
       "      <td>416028</td>\n",
       "      <td>2010</td>\n",
       "      <td>1</td>\n",
       "      <td>14610.0</td>\n",
       "      <td>Beijing</td>\n",
       "      <td>120800</td>\n",
       "      <td>3.0</td>\n",
       "      <td>152.90585</td>\n",
       "      <td>白</td>\n",
       "      <td>BH7165MX</td>\n",
       "      <td>0.0</td>\n",
       "      <td>0.0</td>\n",
       "      <td>1.0</td>\n",
       "      <td>0.0</td>\n",
       "      <td>0.0</td>\n",
       "      <td>0</td>\n",
       "    </tr>\n",
       "  </tbody>\n",
       "</table>\n",
       "</div>"
      ],
      "text/plain": [
       "       id  year  month       ym     city    MSRP  sales   swtprice color  \\\n",
       "1  416024  2010      1  14610.0  Beijing  139800    9.0  152.90585     灰   \n",
       "2  416025  2010      1  14610.0  Beijing   55900  145.0  152.90585     蓝   \n",
       "3  416026  2010      1  14610.0  Beijing  207800   21.0  152.90585     黑   \n",
       "4  416027  2010      1  14610.0  Beijing  105700    0.0  152.90585    黑灰   \n",
       "5  416028  2010      1  14610.0  Beijing  120800    3.0  152.90585     白   \n",
       "\n",
       "    noticenum  postBeijing  postTianjin  Beijing  Tianjin  Shijiazhuang  \\\n",
       "1   TV7161GLD          0.0          0.0      1.0      0.0           0.0   \n",
       "2   QCJ7151A5          0.0          0.0      1.0      0.0           0.0   \n",
       "3  TV6460DLXM          0.0          0.0      1.0      0.0           0.0   \n",
       "4   SDH6470M3          0.0          0.0      1.0      0.0           0.0   \n",
       "5    BH7165MX          0.0          0.0      1.0      0.0           0.0   \n",
       "\n",
       "   policy_dummy  \n",
       "1             0  \n",
       "2             0  \n",
       "3             0  \n",
       "4             0  \n",
       "5             0  "
      ]
     },
     "execution_count": 3,
     "metadata": {},
     "output_type": "execute_result"
    }
   ],
   "source": [
    "Beijing_sample.head()"
   ]
  },
  {
   "cell_type": "code",
   "execution_count": 4,
   "metadata": {},
   "outputs": [
    {
     "data": {
      "text/html": [
       "<div>\n",
       "<style scoped>\n",
       "    .dataframe tbody tr th:only-of-type {\n",
       "        vertical-align: middle;\n",
       "    }\n",
       "\n",
       "    .dataframe tbody tr th {\n",
       "        vertical-align: top;\n",
       "    }\n",
       "\n",
       "    .dataframe thead th {\n",
       "        text-align: right;\n",
       "    }\n",
       "</style>\n",
       "<table border=\"1\" class=\"dataframe\">\n",
       "  <thead>\n",
       "    <tr style=\"text-align: right;\">\n",
       "      <th></th>\n",
       "      <th>id</th>\n",
       "      <th>year</th>\n",
       "      <th>month</th>\n",
       "      <th>ym</th>\n",
       "      <th>city</th>\n",
       "      <th>MSRP</th>\n",
       "      <th>sales</th>\n",
       "      <th>swtprice</th>\n",
       "      <th>color</th>\n",
       "      <th>noticenum</th>\n",
       "      <th>postBeijing</th>\n",
       "      <th>postTianjin</th>\n",
       "      <th>Beijing</th>\n",
       "      <th>Tianjin</th>\n",
       "      <th>Shijiazhuang</th>\n",
       "      <th>policy_dummy</th>\n",
       "    </tr>\n",
       "  </thead>\n",
       "  <tbody>\n",
       "    <tr>\n",
       "      <th>1</th>\n",
       "      <td>1737542</td>\n",
       "      <td>2010</td>\n",
       "      <td>1</td>\n",
       "      <td>14610.0</td>\n",
       "      <td>Tianjin</td>\n",
       "      <td>120800</td>\n",
       "      <td>2.0</td>\n",
       "      <td>121.25181</td>\n",
       "      <td>红</td>\n",
       "      <td>BH7165MX</td>\n",
       "      <td>0.0</td>\n",
       "      <td>0.0</td>\n",
       "      <td>0.0</td>\n",
       "      <td>1.0</td>\n",
       "      <td>0.0</td>\n",
       "      <td>0</td>\n",
       "    </tr>\n",
       "    <tr>\n",
       "      <th>2</th>\n",
       "      <td>1737543</td>\n",
       "      <td>2010</td>\n",
       "      <td>1</td>\n",
       "      <td>14610.0</td>\n",
       "      <td>Tianjin</td>\n",
       "      <td>120800</td>\n",
       "      <td>3.0</td>\n",
       "      <td>121.25181</td>\n",
       "      <td>灰</td>\n",
       "      <td>LZ6511AQ3S</td>\n",
       "      <td>0.0</td>\n",
       "      <td>0.0</td>\n",
       "      <td>0.0</td>\n",
       "      <td>1.0</td>\n",
       "      <td>0.0</td>\n",
       "      <td>0</td>\n",
       "    </tr>\n",
       "    <tr>\n",
       "      <th>3</th>\n",
       "      <td>1737544</td>\n",
       "      <td>2010</td>\n",
       "      <td>1</td>\n",
       "      <td>14610.0</td>\n",
       "      <td>Tianjin</td>\n",
       "      <td>288000</td>\n",
       "      <td>4.0</td>\n",
       "      <td>121.25181</td>\n",
       "      <td>黄</td>\n",
       "      <td>CAF7204A</td>\n",
       "      <td>0.0</td>\n",
       "      <td>0.0</td>\n",
       "      <td>0.0</td>\n",
       "      <td>1.0</td>\n",
       "      <td>0.0</td>\n",
       "      <td>0</td>\n",
       "    </tr>\n",
       "    <tr>\n",
       "      <th>4</th>\n",
       "      <td>1737545</td>\n",
       "      <td>2010</td>\n",
       "      <td>1</td>\n",
       "      <td>14610.0</td>\n",
       "      <td>Tianjin</td>\n",
       "      <td>66800</td>\n",
       "      <td>0.0</td>\n",
       "      <td>121.25181</td>\n",
       "      <td>灰</td>\n",
       "      <td>MR7150B4</td>\n",
       "      <td>0.0</td>\n",
       "      <td>0.0</td>\n",
       "      <td>0.0</td>\n",
       "      <td>1.0</td>\n",
       "      <td>0.0</td>\n",
       "      <td>0</td>\n",
       "    </tr>\n",
       "    <tr>\n",
       "      <th>5</th>\n",
       "      <td>1737546</td>\n",
       "      <td>2010</td>\n",
       "      <td>1</td>\n",
       "      <td>14610.0</td>\n",
       "      <td>Tianjin</td>\n",
       "      <td>49800</td>\n",
       "      <td>3.0</td>\n",
       "      <td>121.25181</td>\n",
       "      <td>红</td>\n",
       "      <td>LZW7120K3Q</td>\n",
       "      <td>0.0</td>\n",
       "      <td>0.0</td>\n",
       "      <td>0.0</td>\n",
       "      <td>1.0</td>\n",
       "      <td>0.0</td>\n",
       "      <td>0</td>\n",
       "    </tr>\n",
       "  </tbody>\n",
       "</table>\n",
       "</div>"
      ],
      "text/plain": [
       "        id  year  month       ym     city    MSRP  sales   swtprice color  \\\n",
       "1  1737542  2010      1  14610.0  Tianjin  120800    2.0  121.25181     红   \n",
       "2  1737543  2010      1  14610.0  Tianjin  120800    3.0  121.25181     灰   \n",
       "3  1737544  2010      1  14610.0  Tianjin  288000    4.0  121.25181     黄   \n",
       "4  1737545  2010      1  14610.0  Tianjin   66800    0.0  121.25181     灰   \n",
       "5  1737546  2010      1  14610.0  Tianjin   49800    3.0  121.25181     红   \n",
       "\n",
       "    noticenum  postBeijing  postTianjin  Beijing  Tianjin  Shijiazhuang  \\\n",
       "1    BH7165MX          0.0          0.0      0.0      1.0           0.0   \n",
       "2  LZ6511AQ3S          0.0          0.0      0.0      1.0           0.0   \n",
       "3    CAF7204A          0.0          0.0      0.0      1.0           0.0   \n",
       "4    MR7150B4          0.0          0.0      0.0      1.0           0.0   \n",
       "5  LZW7120K3Q          0.0          0.0      0.0      1.0           0.0   \n",
       "\n",
       "   policy_dummy  \n",
       "1             0  \n",
       "2             0  \n",
       "3             0  \n",
       "4             0  \n",
       "5             0  "
      ]
     },
     "execution_count": 4,
     "metadata": {},
     "output_type": "execute_result"
    }
   ],
   "source": [
    "Tianjin_sample.head()"
   ]
  },
  {
   "cell_type": "markdown",
   "metadata": {},
   "source": [
    "## 3.3 Clean Data of Beijing and Tianjin Car Sales"
   ]
  },
  {
   "cell_type": "code",
   "execution_count": 5,
   "metadata": {},
   "outputs": [],
   "source": [
    "# keep 2010 and 2011 data only\n",
    "Beijing = Beijing_sample[(Beijing_sample['year']>= 2010) & (Beijing_sample['year'] < 2012)]"
   ]
  },
  {
   "cell_type": "code",
   "execution_count": 6,
   "metadata": {},
   "outputs": [],
   "source": [
    "# collect unique MSRP values\n",
    "uniqueMSRP = pd.DataFrame(Beijing.MSRP.unique()).rename(columns={0:'MSRP'})"
   ]
  },
  {
   "cell_type": "code",
   "execution_count": 7,
   "metadata": {},
   "outputs": [],
   "source": [
    "# aggregate sales at each price for 2010 (pre-lottery)\n",
    "Beijing10_sales = Beijing[(Beijing['year']== 2010)].groupby('MSRP').aggregate({'sales':[sum]})\n",
    "Beijing10_sales = Beijing10_sales.unstack().reset_index().rename_axis(None, axis=1)\n",
    "Beijing10_sales = Beijing10_sales.drop(columns=['level_0', 'level_1']).rename(columns={0:'count'})"
   ]
  },
  {
   "cell_type": "code",
   "execution_count": 8,
   "metadata": {},
   "outputs": [
    {
     "data": {
      "text/html": [
       "<div>\n",
       "<style scoped>\n",
       "    .dataframe tbody tr th:only-of-type {\n",
       "        vertical-align: middle;\n",
       "    }\n",
       "\n",
       "    .dataframe tbody tr th {\n",
       "        vertical-align: top;\n",
       "    }\n",
       "\n",
       "    .dataframe thead th {\n",
       "        text-align: right;\n",
       "    }\n",
       "</style>\n",
       "<table border=\"1\" class=\"dataframe\">\n",
       "  <thead>\n",
       "    <tr style=\"text-align: right;\">\n",
       "      <th></th>\n",
       "      <th>MSRP</th>\n",
       "      <th>count</th>\n",
       "    </tr>\n",
       "  </thead>\n",
       "  <tbody>\n",
       "    <tr>\n",
       "      <th>482</th>\n",
       "      <td>20800</td>\n",
       "      <td>0.0</td>\n",
       "    </tr>\n",
       "    <tr>\n",
       "      <th>374</th>\n",
       "      <td>29800</td>\n",
       "      <td>47.0</td>\n",
       "    </tr>\n",
       "    <tr>\n",
       "      <th>338</th>\n",
       "      <td>32900</td>\n",
       "      <td>3153.0</td>\n",
       "    </tr>\n",
       "    <tr>\n",
       "      <th>227</th>\n",
       "      <td>33800</td>\n",
       "      <td>3678.0</td>\n",
       "    </tr>\n",
       "    <tr>\n",
       "      <th>388</th>\n",
       "      <td>34800</td>\n",
       "      <td>592.0</td>\n",
       "    </tr>\n",
       "  </tbody>\n",
       "</table>\n",
       "</div>"
      ],
      "text/plain": [
       "      MSRP   count\n",
       "482  20800     0.0\n",
       "374  29800    47.0\n",
       "338  32900  3153.0\n",
       "227  33800  3678.0\n",
       "388  34800   592.0"
      ]
     },
     "execution_count": 8,
     "metadata": {},
     "output_type": "execute_result"
    }
   ],
   "source": [
    "# merge the MSRP and sales\n",
    "Beijing_pre = uniqueMSRP.merge(Beijing10_sales, how='left', on = \"MSRP\")\n",
    "Beijing_pre[['count']] = Beijing_pre[['count']].fillna(value=0)\n",
    "Beijing_pre = Beijing_pre.sort_values('MSRP')\n",
    "\n",
    "# preview data\n",
    "Beijing_pre.head()"
   ]
  },
  {
   "cell_type": "markdown",
   "metadata": {},
   "source": [
    "## 3.4 Visualize Beijing Car Sales"
   ]
  },
  {
   "cell_type": "code",
   "execution_count": 9,
   "metadata": {},
   "outputs": [
    {
     "data": {
      "text/html": [
       "<div>\n",
       "<style scoped>\n",
       "    .dataframe tbody tr th:only-of-type {\n",
       "        vertical-align: middle;\n",
       "    }\n",
       "\n",
       "    .dataframe tbody tr th {\n",
       "        vertical-align: top;\n",
       "    }\n",
       "\n",
       "    .dataframe thead th {\n",
       "        text-align: right;\n",
       "    }\n",
       "</style>\n",
       "<table border=\"1\" class=\"dataframe\">\n",
       "  <thead>\n",
       "    <tr style=\"text-align: right;\">\n",
       "      <th></th>\n",
       "      <th>MSRP</th>\n",
       "      <th>count</th>\n",
       "    </tr>\n",
       "  </thead>\n",
       "  <tbody>\n",
       "    <tr>\n",
       "      <th>482</th>\n",
       "      <td>20800</td>\n",
       "      <td>23.0</td>\n",
       "    </tr>\n",
       "    <tr>\n",
       "      <th>374</th>\n",
       "      <td>29800</td>\n",
       "      <td>0.0</td>\n",
       "    </tr>\n",
       "    <tr>\n",
       "      <th>338</th>\n",
       "      <td>32900</td>\n",
       "      <td>1393.0</td>\n",
       "    </tr>\n",
       "    <tr>\n",
       "      <th>227</th>\n",
       "      <td>33800</td>\n",
       "      <td>4.0</td>\n",
       "    </tr>\n",
       "    <tr>\n",
       "      <th>388</th>\n",
       "      <td>34800</td>\n",
       "      <td>189.0</td>\n",
       "    </tr>\n",
       "  </tbody>\n",
       "</table>\n",
       "</div>"
      ],
      "text/plain": [
       "      MSRP   count\n",
       "482  20800    23.0\n",
       "374  29800     0.0\n",
       "338  32900  1393.0\n",
       "227  33800     4.0\n",
       "388  34800   189.0"
      ]
     },
     "execution_count": 9,
     "metadata": {},
     "output_type": "execute_result"
    }
   ],
   "source": []
  },
  {
   "cell_type": "code",
   "execution_count": 10,
   "metadata": {},
   "outputs": [],
   "source": [
    "# uncount\n",
    "df2 = Beijing_pre.pop('count')\n",
    "Beijing_distribution_pre = pd.DataFrame(Beijing_pre.values.repeat(df2, axis=0), columns=Beijing_pre.columns)"
   ]
  },
  {
   "cell_type": "code",
   "execution_count": 11,
   "metadata": {},
   "outputs": [],
   "source": [
    "df3 = Beijing_post.pop('count')\n",
    "Beijing_distribution_post = pd.DataFrame(Beijing_post.values.repeat(df3, axis=0), columns=Beijing_post.columns)"
   ]
  },
  {
   "cell_type": "code",
   "execution_count": 12,
   "metadata": {},
   "outputs": [
    {
     "name": "stderr",
     "output_type": "stream",
     "text": [
      "No handles with labels found to put in legend.\n"
     ]
    },
    {
     "data": {
      "text/plain": [
       "<matplotlib.legend.Legend at 0x7ff95bf75f40>"
      ]
     },
     "execution_count": 12,
     "metadata": {},
     "output_type": "execute_result"
    },
    {
     "data": {
      "image/png": "[encoded data removed]",
      "text/plain": [
       "<Figure size 432x288 with 1 Axes>"
      ]
     },
     "metadata": {
      "needs_background": "light"
     },
     "output_type": "display_data"
    }
   ],
   "source": [
    "import matplotlib.pyplot as plt\n",
    "import seaborn as sns\n",
    "fig, ax = plt.subplots()\n",
    "for a in [Beijing_distribution_pre, Beijing_distribution_post]:\n",
    "    sns.distplot(a/1000, ax=ax, kde=False, norm_hist=True)\n",
    "plt.xlabel(\"MSRP(1000RMB)\", size=14)\n",
    "plt.ylabel(\"Density\", size=14)\n",
    "plt.title(\"Pre-lottery (blue) vs. Post-lottery (brown)\\n Sales Distributions of Beijing Cars\", size=18)\n",
    "plt.legend(loc='upper right')\n",
    "# ax.set_xlim([0, 1200])"
   ]
  },
  {
   "cell_type": "markdown",
   "metadata": {},
   "source": [
    "## 3.5 Compute Before-and-After Estimator"
   ]
  },
  {
   "cell_type": "code",
   "execution_count": 13,
   "metadata": {},
   "outputs": [
    {
     "data": {
      "text/html": [
       "<div>\n",
       "<style scoped>\n",
       "    .dataframe tbody tr th:only-of-type {\n",
       "        vertical-align: middle;\n",
       "    }\n",
       "\n",
       "    .dataframe tbody tr th {\n",
       "        vertical-align: top;\n",
       "    }\n",
       "\n",
       "    .dataframe thead th {\n",
       "        text-align: right;\n",
       "    }\n",
       "</style>\n",
       "<table border=\"1\" class=\"dataframe\">\n",
       "  <thead>\n",
       "    <tr style=\"text-align: right;\">\n",
       "      <th></th>\n",
       "      <th>sample1</th>\n",
       "      <th>sample2</th>\n",
       "    </tr>\n",
       "  </thead>\n",
       "  <tbody>\n",
       "    <tr>\n",
       "      <th>0</th>\n",
       "      <td>-0.405173</td>\n",
       "      <td>-0.122613</td>\n",
       "    </tr>\n",
       "    <tr>\n",
       "      <th>1</th>\n",
       "      <td>-0.810737</td>\n",
       "      <td>1.257694</td>\n",
       "    </tr>\n",
       "    <tr>\n",
       "      <th>2</th>\n",
       "      <td>-0.756124</td>\n",
       "      <td>0.386733</td>\n",
       "    </tr>\n",
       "    <tr>\n",
       "      <th>3</th>\n",
       "      <td>0.294862</td>\n",
       "      <td>-0.271587</td>\n",
       "    </tr>\n",
       "    <tr>\n",
       "      <th>4</th>\n",
       "      <td>0.476376</td>\n",
       "      <td>-0.501680</td>\n",
       "    </tr>\n",
       "  </tbody>\n",
       "</table>\n",
       "</div>"
      ],
      "text/plain": [
       "    sample1   sample2\n",
       "0 -0.405173 -0.122613\n",
       "1 -0.810737  1.257694\n",
       "2 -0.756124  0.386733\n",
       "3  0.294862 -0.271587\n",
       "4  0.476376 -0.501680"
      ]
     },
     "execution_count": 13,
     "metadata": {},
     "output_type": "execute_result"
    }
   ],
   "source": [
    "base.set_seed(0) # for reproducibility\n",
    "n_observations = 100000\n",
    "placebo_demonstration = pd.DataFrame({'sample1': np.random.normal(0, 1, n_observations), 'sample2': np.random.normal(0, 1, n_observations)})\n",
    "placebo_demonstration.head()"
   ]
  },
  {
   "cell_type": "code",
   "execution_count": 14,
   "metadata": {},
   "outputs": [
    {
     "data": {
      "text/plain": [
       "Text(0.5, 1.0, 'Two Samples from Standard Normal Distribution')"
      ]
     },
     "execution_count": 14,
     "metadata": {},
     "output_type": "execute_result"
    },
    {
     "data": {
      "image/png": "[encoded data removed]",
      "text/plain": [
       "<Figure size 432x288 with 1 Axes>"
      ]
     },
     "metadata": {
      "needs_background": "light"
     },
     "output_type": "display_data"
    }
   ],
   "source": [
    "fig, ax = plt.subplots()\n",
    "ax = sns.distplot(placebo_demonstration['sample1'], ax=ax, kde=False, norm_hist=True)\n",
    "ax = sns.distplot(placebo_demonstration['sample2'], ax=ax, kde=False, norm_hist=True)\n",
    "plt.xlabel(\"Support\", size=12)\n",
    "plt.ylabel(\"Density\", size=14)\n",
    "plt.title(\"Two Samples from Standard Normal Distribution\", size=18)"
   ]
  },
  {
   "cell_type": "code",
   "execution_count": 123,
   "metadata": {},
   "outputs": [
    {
     "name": "stdout",
     "output_type": "stream",
     "text": [
      "        MSRP  count\n",
      "482    20800      0\n",
      "374    29800     50\n",
      "338    32900   3136\n",
      "227    33800   3597\n",
      "388    34800    539\n",
      "..       ...    ...\n",
      "263   703600    350\n",
      "7     770000    101\n",
      "314   800400      2\n",
      "433   998000      6\n",
      "5    1127800    325\n",
      "\n",
      "[513 rows x 2 columns]\n",
      "MSRP     int64\n",
      "count    int32\n",
      "dtype: object\n"
     ]
    }
   ],
   "source": [
    "# set the seed for reproducibility set.seed(1)\n",
    "# We will use the `rmultinom` function to construct our placebo.\n",
    "# Imagine the same number of cars as in 2010. (see `size` argument)\n",
    "# For each MSRP value, we will decide how many of these imaginary cars will\n",
    "# be sold at this price. The number of of these imaginary cars to be sold at\n",
    "# the particular MSRP value will be proportional to the actual number of cars\n",
    "# sold in the pre-lottery distribution. (see `prob` argument) # We only want one placebo distribution. (see `n` argument) placebo_1 <- data.frame(MSRP = Beijing_pre[‘MSRP’],\n",
    "base.set_seed(1)\n",
    "Beijing_pre = uniqueMSRP.merge(Beijing10_sales, how='left', on = \"MSRP\")\n",
    "Beijing_pre[['count']] = Beijing_pre[['count']].fillna(value=0)\n",
    "Beijing_pre = Beijing_pre.sort_values('MSRP')\n",
    "count =  stats.rmultinom(n = 1, size = sum(Beijing_pre['count']), prob = Beijing_pre['count'])\n",
    "count2 = count[:,0]\n",
    "d = {'MSRP': Beijing_pre['MSRP'], 'count' : count2}\n",
    "placebo_1 = pd.DataFrame(data=d)\n",
    "print(placebo_1)\n",
    "print(placebo_1.dtypes)"
   ]
  },
  {
   "cell_type": "code",
   "execution_count": 124,
   "metadata": {},
   "outputs": [
    {
     "name": "stdout",
     "output_type": "stream",
     "text": [
      "        MSRP  count\n",
      "482    20800      0\n",
      "374    29800     64\n",
      "338    32900   3108\n",
      "227    33800   3647\n",
      "388    34800    603\n",
      "..       ...    ...\n",
      "263   703600    371\n",
      "7     770000    103\n",
      "314   800400      3\n",
      "433   998000      2\n",
      "5    1127800    305\n",
      "\n",
      "[513 rows x 2 columns]\n",
      "MSRP     int64\n",
      "count    int32\n",
      "dtype: object\n"
     ]
    }
   ],
   "source": []
  },
  {
   "cell_type": "code",
   "execution_count": 125,
   "metadata": {},
   "outputs": [
    {
     "name": "stderr",
     "output_type": "stream",
     "text": [
      "R[write to console]: Computing Transport Costs...\n",
      "\n"
     ]
    },
    {
     "name": "stdout",
     "output_type": "stream",
     "text": [
      "================================================================================\n"
     ]
    },
    {
     "name": "stderr",
     "output_type": "stream",
     "text": [
      "R[write to console]: The transport cost for the specified bandwidths have been computed.\n",
      "\n"
     ]
    },
    {
     "data": {
      "text/html": [
       "<div>\n",
       "<style scoped>\n",
       "    .dataframe tbody tr th:only-of-type {\n",
       "        vertical-align: middle;\n",
       "    }\n",
       "\n",
       "    .dataframe tbody tr th {\n",
       "        vertical-align: top;\n",
       "    }\n",
       "\n",
       "    .dataframe thead th {\n",
       "        text-align: right;\n",
       "    }\n",
       "</style>\n",
       "<table border=\"1\" class=\"dataframe\">\n",
       "  <thead>\n",
       "    <tr style=\"text-align: right;\">\n",
       "      <th></th>\n",
       "      <th>bandwidth</th>\n",
       "      <th>main</th>\n",
       "    </tr>\n",
       "  </thead>\n",
       "  <tbody>\n",
       "    <tr>\n",
       "      <th>1</th>\n",
       "      <td>0</td>\n",
       "      <td>0.010787</td>\n",
       "    </tr>\n",
       "  </tbody>\n",
       "</table>\n",
       "</div>"
      ],
      "text/plain": [
       "   bandwidth      main\n",
       "1          0  0.010787"
      ]
     },
     "execution_count": 125,
     "metadata": {},
     "output_type": "execute_result"
    }
   ],
   "source": [
    "placebo_at_0 = diftrans.diftrans(pre_main = placebo_1, post_main = placebo_2, bandwidth_seq = 0)\n",
    "placebo_at_0"
   ]
  },
  {
   "cell_type": "markdown",
   "metadata": {},
   "source": [
    "## 3.6 Compute Differences-in-Transports Estimator"
   ]
  },
  {
   "cell_type": "code",
   "execution_count": 126,
   "metadata": {},
   "outputs": [
    {
     "data": {
      "text/html": [
       "<div>\n",
       "<style scoped>\n",
       "    .dataframe tbody tr th:only-of-type {\n",
       "        vertical-align: middle;\n",
       "    }\n",
       "\n",
       "    .dataframe tbody tr th {\n",
       "        vertical-align: top;\n",
       "    }\n",
       "\n",
       "    .dataframe thead th {\n",
       "        text-align: right;\n",
       "    }\n",
       "</style>\n",
       "<table border=\"1\" class=\"dataframe\">\n",
       "  <thead>\n",
       "    <tr style=\"text-align: right;\">\n",
       "      <th></th>\n",
       "      <th>MSRP</th>\n",
       "      <th>count</th>\n",
       "    </tr>\n",
       "  </thead>\n",
       "  <tbody>\n",
       "    <tr>\n",
       "      <th>448</th>\n",
       "      <td>20800</td>\n",
       "      <td>0.0</td>\n",
       "    </tr>\n",
       "    <tr>\n",
       "      <th>464</th>\n",
       "      <td>28800</td>\n",
       "      <td>0.0</td>\n",
       "    </tr>\n",
       "    <tr>\n",
       "      <th>358</th>\n",
       "      <td>29800</td>\n",
       "      <td>51.0</td>\n",
       "    </tr>\n",
       "    <tr>\n",
       "      <th>494</th>\n",
       "      <td>30900</td>\n",
       "      <td>0.0</td>\n",
       "    </tr>\n",
       "    <tr>\n",
       "      <th>327</th>\n",
       "      <td>32900</td>\n",
       "      <td>599.0</td>\n",
       "    </tr>\n",
       "  </tbody>\n",
       "</table>\n",
       "</div>"
      ],
      "text/plain": [
       "      MSRP  count\n",
       "448  20800    0.0\n",
       "464  28800    0.0\n",
       "358  29800   51.0\n",
       "494  30900    0.0\n",
       "327  32900  599.0"
      ]
     },
     "execution_count": 126,
     "metadata": {},
     "output_type": "execute_result"
    }
   ],
   "source": []
  },
  {
   "cell_type": "code",
   "execution_count": 127,
   "metadata": {},
   "outputs": [
    {
     "data": {
      "text/html": [
       "<div>\n",
       "<style scoped>\n",
       "    .dataframe tbody tr th:only-of-type {\n",
       "        vertical-align: middle;\n",
       "    }\n",
       "\n",
       "    .dataframe tbody tr th {\n",
       "        vertical-align: top;\n",
       "    }\n",
       "\n",
       "    .dataframe thead th {\n",
       "        text-align: right;\n",
       "    }\n",
       "</style>\n",
       "<table border=\"1\" class=\"dataframe\">\n",
       "  <thead>\n",
       "    <tr style=\"text-align: right;\">\n",
       "      <th></th>\n",
       "      <th>MSRP</th>\n",
       "      <th>count</th>\n",
       "    </tr>\n",
       "  </thead>\n",
       "  <tbody>\n",
       "    <tr>\n",
       "      <th>448</th>\n",
       "      <td>20800</td>\n",
       "      <td>23.0</td>\n",
       "    </tr>\n",
       "    <tr>\n",
       "      <th>464</th>\n",
       "      <td>28800</td>\n",
       "      <td>7.0</td>\n",
       "    </tr>\n",
       "    <tr>\n",
       "      <th>358</th>\n",
       "      <td>29800</td>\n",
       "      <td>5.0</td>\n",
       "    </tr>\n",
       "    <tr>\n",
       "      <th>494</th>\n",
       "      <td>30900</td>\n",
       "      <td>1.0</td>\n",
       "    </tr>\n",
       "    <tr>\n",
       "      <th>327</th>\n",
       "      <td>32900</td>\n",
       "      <td>948.0</td>\n",
       "    </tr>\n",
       "  </tbody>\n",
       "</table>\n",
       "</div>"
      ],
      "text/plain": [
       "      MSRP  count\n",
       "448  20800   23.0\n",
       "464  28800    7.0\n",
       "358  29800    5.0\n",
       "494  30900    1.0\n",
       "327  32900  948.0"
      ]
     },
     "execution_count": 127,
     "metadata": {},
     "output_type": "execute_result"
    }
   ],
   "source": []
  },
  {
   "cell_type": "code",
   "execution_count": 128,
   "metadata": {},
   "outputs": [],
   "source": []
  },
  {
   "cell_type": "code",
   "execution_count": 129,
   "metadata": {},
   "outputs": [
    {
     "name": "stderr",
     "output_type": "stream",
     "text": [
      "R[write to console]: Computing Differences-in-Transports Estimator...\n",
      "\n",
      "R[write to console]: Note: you are using `conservative = T`.\n",
      "\n"
     ]
    },
    {
     "name": "stdout",
     "output_type": "stream",
     "text": [
      "================================================================================\n"
     ]
    },
    {
     "name": "stderr",
     "output_type": "stream",
     "text": [
      "R[write to console]: The conservative diff-in-transports estimator is 0.0544428953078284 at d = 0\n",
      "\n"
     ]
    },
    {
     "data": {
      "text/html": [
       "<div>\n",
       "<style scoped>\n",
       "    .dataframe tbody tr th:only-of-type {\n",
       "        vertical-align: middle;\n",
       "    }\n",
       "\n",
       "    .dataframe tbody tr th {\n",
       "        vertical-align: top;\n",
       "    }\n",
       "\n",
       "    .dataframe thead th {\n",
       "        text-align: right;\n",
       "    }\n",
       "</style>\n",
       "<table border=\"1\" class=\"dataframe\">\n",
       "  <thead>\n",
       "    <tr style=\"text-align: right;\">\n",
       "      <th></th>\n",
       "      <th>bandwidth</th>\n",
       "      <th>main</th>\n",
       "      <th>main2d</th>\n",
       "      <th>control</th>\n",
       "      <th>diff</th>\n",
       "      <th>diff2d</th>\n",
       "    </tr>\n",
       "  </thead>\n",
       "  <tbody>\n",
       "    <tr>\n",
       "      <th>1</th>\n",
       "      <td>0</td>\n",
       "      <td>0.353123</td>\n",
       "      <td>0.353123</td>\n",
       "      <td>0.298681</td>\n",
       "      <td>0.054443</td>\n",
       "      <td>0.054443</td>\n",
       "    </tr>\n",
       "  </tbody>\n",
       "</table>\n",
       "</div>"
      ],
      "text/plain": [
       "   bandwidth      main    main2d   control      diff    diff2d\n",
       "1          0  0.353123  0.353123  0.298681  0.054443  0.054443"
      ]
     },
     "execution_count": 129,
     "metadata": {},
     "output_type": "execute_result"
    }
   ],
   "source": [
    "dit_at_0 = diftrans.diftrans(pre_main = Beijing_pre, post_main = Beijing_post, pre_control = Tianjin_pre, post_control = Tianjin_post, bandwidth_seq = 0, conservative = True)\n",
    "dit_at_0"
   ]
  },
  {
   "cell_type": "code",
   "execution_count": null,
   "metadata": {},
   "outputs": [],
   "source": []
  },
  {
   "cell_type": "code",
   "execution_count": null,
   "metadata": {},
   "outputs": [],
   "source": []
  }
 ],
 "metadata": {
  "kernelspec": {
   "display_name": "Python 3",
   "language": "python",
   "name": "python3"
  },
  "language_info": {
   "codemirror_mode": {
    "name": "ipython",
    "version": 3
   },
   "file_extension": ".py",
   "mimetype": "text/x-python",
   "name": "python",
   "nbconvert_exporter": "python",
   "pygments_lexer": "ipython3",
   "version": "3.8.3"
  }
 },
 "nbformat": 4,
 "nbformat_minor": 4
}
